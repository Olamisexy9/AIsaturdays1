{
  "nbformat": 4,
  "nbformat_minor": 0,
  "metadata": {
    "colab": {
      "provenance": [],
      "authorship_tag": "ABX9TyNZbjj0wOtdyA7PrcKLdfAB",
      "include_colab_link": true
    },
    "kernelspec": {
      "name": "python3",
      "display_name": "Python 3"
    },
    "language_info": {
      "name": "python"
    }
  },
  "cells": [
    {
      "cell_type": "markdown",
      "metadata": {
        "id": "view-in-github",
        "colab_type": "text"
      },
      "source": [
        "<a href=\"https://colab.research.google.com/github/Olamisexy9/AIsaturdays1/blob/master/data%20collection.ipynb\" target=\"_parent\"><img src=\"https://colab.research.google.com/assets/colab-badge.svg\" alt=\"Open In Colab\"/></a>"
      ]
    },
    {
      "cell_type": "code",
      "execution_count": 2,
      "metadata": {
        "colab": {
          "base_uri": "https://localhost:8080/",
          "height": 90
        },
        "collapsed": true,
        "id": "0SLrg36NjSmK",
        "outputId": "bb222d3b-d517-4f98-bc31-e502848d2d79"
      },
      "outputs": [
        {
          "output_type": "display_data",
          "data": {
            "text/plain": [
              "<IPython.core.display.HTML object>"
            ],
            "text/html": [
              "\n",
              "     <input type=\"file\" id=\"files-6558e4c1-d280-4425-a919-4d0812ce3d6c\" name=\"files[]\" multiple disabled\n",
              "        style=\"border:none\" />\n",
              "     <output id=\"result-6558e4c1-d280-4425-a919-4d0812ce3d6c\">\n",
              "      Upload widget is only available when the cell has been executed in the\n",
              "      current browser session. Please rerun this cell to enable.\n",
              "      </output>\n",
              "      <script>// Copyright 2017 Google LLC\n",
              "//\n",
              "// Licensed under the Apache License, Version 2.0 (the \"License\");\n",
              "// you may not use this file except in compliance with the License.\n",
              "// You may obtain a copy of the License at\n",
              "//\n",
              "//      http://www.apache.org/licenses/LICENSE-2.0\n",
              "//\n",
              "// Unless required by applicable law or agreed to in writing, software\n",
              "// distributed under the License is distributed on an \"AS IS\" BASIS,\n",
              "// WITHOUT WARRANTIES OR CONDITIONS OF ANY KIND, either express or implied.\n",
              "// See the License for the specific language governing permissions and\n",
              "// limitations under the License.\n",
              "\n",
              "/**\n",
              " * @fileoverview Helpers for google.colab Python module.\n",
              " */\n",
              "(function(scope) {\n",
              "function span(text, styleAttributes = {}) {\n",
              "  const element = document.createElement('span');\n",
              "  element.textContent = text;\n",
              "  for (const key of Object.keys(styleAttributes)) {\n",
              "    element.style[key] = styleAttributes[key];\n",
              "  }\n",
              "  return element;\n",
              "}\n",
              "\n",
              "// Max number of bytes which will be uploaded at a time.\n",
              "const MAX_PAYLOAD_SIZE = 100 * 1024;\n",
              "\n",
              "function _uploadFiles(inputId, outputId) {\n",
              "  const steps = uploadFilesStep(inputId, outputId);\n",
              "  const outputElement = document.getElementById(outputId);\n",
              "  // Cache steps on the outputElement to make it available for the next call\n",
              "  // to uploadFilesContinue from Python.\n",
              "  outputElement.steps = steps;\n",
              "\n",
              "  return _uploadFilesContinue(outputId);\n",
              "}\n",
              "\n",
              "// This is roughly an async generator (not supported in the browser yet),\n",
              "// where there are multiple asynchronous steps and the Python side is going\n",
              "// to poll for completion of each step.\n",
              "// This uses a Promise to block the python side on completion of each step,\n",
              "// then passes the result of the previous step as the input to the next step.\n",
              "function _uploadFilesContinue(outputId) {\n",
              "  const outputElement = document.getElementById(outputId);\n",
              "  const steps = outputElement.steps;\n",
              "\n",
              "  const next = steps.next(outputElement.lastPromiseValue);\n",
              "  return Promise.resolve(next.value.promise).then((value) => {\n",
              "    // Cache the last promise value to make it available to the next\n",
              "    // step of the generator.\n",
              "    outputElement.lastPromiseValue = value;\n",
              "    return next.value.response;\n",
              "  });\n",
              "}\n",
              "\n",
              "/**\n",
              " * Generator function which is called between each async step of the upload\n",
              " * process.\n",
              " * @param {string} inputId Element ID of the input file picker element.\n",
              " * @param {string} outputId Element ID of the output display.\n",
              " * @return {!Iterable<!Object>} Iterable of next steps.\n",
              " */\n",
              "function* uploadFilesStep(inputId, outputId) {\n",
              "  const inputElement = document.getElementById(inputId);\n",
              "  inputElement.disabled = false;\n",
              "\n",
              "  const outputElement = document.getElementById(outputId);\n",
              "  outputElement.innerHTML = '';\n",
              "\n",
              "  const pickedPromise = new Promise((resolve) => {\n",
              "    inputElement.addEventListener('change', (e) => {\n",
              "      resolve(e.target.files);\n",
              "    });\n",
              "  });\n",
              "\n",
              "  const cancel = document.createElement('button');\n",
              "  inputElement.parentElement.appendChild(cancel);\n",
              "  cancel.textContent = 'Cancel upload';\n",
              "  const cancelPromise = new Promise((resolve) => {\n",
              "    cancel.onclick = () => {\n",
              "      resolve(null);\n",
              "    };\n",
              "  });\n",
              "\n",
              "  // Wait for the user to pick the files.\n",
              "  const files = yield {\n",
              "    promise: Promise.race([pickedPromise, cancelPromise]),\n",
              "    response: {\n",
              "      action: 'starting',\n",
              "    }\n",
              "  };\n",
              "\n",
              "  cancel.remove();\n",
              "\n",
              "  // Disable the input element since further picks are not allowed.\n",
              "  inputElement.disabled = true;\n",
              "\n",
              "  if (!files) {\n",
              "    return {\n",
              "      response: {\n",
              "        action: 'complete',\n",
              "      }\n",
              "    };\n",
              "  }\n",
              "\n",
              "  for (const file of files) {\n",
              "    const li = document.createElement('li');\n",
              "    li.append(span(file.name, {fontWeight: 'bold'}));\n",
              "    li.append(span(\n",
              "        `(${file.type || 'n/a'}) - ${file.size} bytes, ` +\n",
              "        `last modified: ${\n",
              "            file.lastModifiedDate ? file.lastModifiedDate.toLocaleDateString() :\n",
              "                                    'n/a'} - `));\n",
              "    const percent = span('0% done');\n",
              "    li.appendChild(percent);\n",
              "\n",
              "    outputElement.appendChild(li);\n",
              "\n",
              "    const fileDataPromise = new Promise((resolve) => {\n",
              "      const reader = new FileReader();\n",
              "      reader.onload = (e) => {\n",
              "        resolve(e.target.result);\n",
              "      };\n",
              "      reader.readAsArrayBuffer(file);\n",
              "    });\n",
              "    // Wait for the data to be ready.\n",
              "    let fileData = yield {\n",
              "      promise: fileDataPromise,\n",
              "      response: {\n",
              "        action: 'continue',\n",
              "      }\n",
              "    };\n",
              "\n",
              "    // Use a chunked sending to avoid message size limits. See b/62115660.\n",
              "    let position = 0;\n",
              "    do {\n",
              "      const length = Math.min(fileData.byteLength - position, MAX_PAYLOAD_SIZE);\n",
              "      const chunk = new Uint8Array(fileData, position, length);\n",
              "      position += length;\n",
              "\n",
              "      const base64 = btoa(String.fromCharCode.apply(null, chunk));\n",
              "      yield {\n",
              "        response: {\n",
              "          action: 'append',\n",
              "          file: file.name,\n",
              "          data: base64,\n",
              "        },\n",
              "      };\n",
              "\n",
              "      let percentDone = fileData.byteLength === 0 ?\n",
              "          100 :\n",
              "          Math.round((position / fileData.byteLength) * 100);\n",
              "      percent.textContent = `${percentDone}% done`;\n",
              "\n",
              "    } while (position < fileData.byteLength);\n",
              "  }\n",
              "\n",
              "  // All done.\n",
              "  yield {\n",
              "    response: {\n",
              "      action: 'complete',\n",
              "    }\n",
              "  };\n",
              "}\n",
              "\n",
              "scope.google = scope.google || {};\n",
              "scope.google.colab = scope.google.colab || {};\n",
              "scope.google.colab._files = {\n",
              "  _uploadFiles,\n",
              "  _uploadFilesContinue,\n",
              "};\n",
              "})(self);\n",
              "</script> "
            ]
          },
          "metadata": {}
        },
        {
          "output_type": "stream",
          "name": "stdout",
          "text": [
            "Saving kaggle.json to kaggle.json\n"
          ]
        },
        {
          "output_type": "execute_result",
          "data": {
            "text/plain": [
              "{'kaggle.json': b'{\"username\":\"tijaniolami\",\"key\":\"d88cd1c218391c857811a22e6176c40c\"}'}"
            ]
          },
          "metadata": {},
          "execution_count": 2
        }
      ],
      "source": [
        "from google.colab import files\n",
        "files.upload()"
      ]
    },
    {
      "cell_type": "code",
      "source": [
        "!rm -r ~/.kaggle\n",
        "!mkdir ~/.kaggle\n",
        "!mv ./kaggle.json ~/.kaggle/\n",
        "!chmod 600 ~/.kaggle/kaggle.json\n",
        "!kaggle datasets list"
      ],
      "metadata": {
        "colab": {
          "base_uri": "https://localhost:8080/"
        },
        "id": "KXAokY3zkQ9O",
        "outputId": "7ccd68cd-b879-4dde-b357-d5f5179edbd3"
      },
      "execution_count": 3,
      "outputs": [
        {
          "output_type": "stream",
          "name": "stdout",
          "text": [
            "rm: cannot remove '/root/.kaggle': No such file or directory\n",
            "ref                                                        title                                                    size  lastUpdated                 downloadCount  voteCount  usabilityRating  \n",
            "---------------------------------------------------------  -------------------------------------------------  ----------  --------------------------  -------------  ---------  ---------------  \n",
            "rohitgrewal/airlines-flights-data                          Airlines Flights Data                                 2440299  2025-07-29 09:16:00.463000          10748        204  1.0              \n",
            "wasiqaliyasir/breast-cancer-dataset                        Breast cancer dataset                                   49830  2025-07-30 12:52:44.057000           6439        216  1.0              \n",
            "kunshbhatia/delhi-air-quality-dataset                      Delhi Air Quality Dataset                               30430  2025-07-28 14:00:14.247000           4533        100  1.0              \n",
            "abdulmalik1518/cars-datasets-2025                          Cars Datasets (2025)                                    25987  2025-07-17 21:43:28.493000          11276        247  1.0              \n",
            "rohitgrewal/restaurant-sales-data                          Restaurant Sales Data                                    2237  2025-07-31 17:29:16.597000           2156         33  1.0              \n",
            "rohitgrewal/netflix-data                                   Netflix Data                                          1224095  2025-07-31 06:07:40.333000           1995         36  1.0              \n",
            "willianoliveiragibin/gold-price-2025                       Gold_price_2025                                         27061  2025-07-27 19:47:22.870000            948         23  1.0              \n",
            "sahilislam007/college-student-placement-factors-dataset    College Student Placement Factors Dataset              110450  2025-07-02 08:33:50.547000          11987        226  1.0              \n",
            "rohitgrewal/weather-data                                   Weather Data                                           102960  2025-07-30 15:25:37.393000            814         26  1.0              \n",
            "anandshaw2001/top-spotify-songs-in-countries               Top Spotify Listening History Songs in Countries      6389288  2025-06-15 05:01:56                  7193        171  1.0              \n",
            "reignrichard/coffee-store-sales                            Coffee Store Sales                                     426152  2025-07-11 12:23:43.847000           3617         46  0.9411765        \n",
            "ankushpanday2/indian-kids-screentime-2025                  Indian Kids Screentime 2025                             70001  2025-07-08 17:25:35.483000           6568        107  1.0              \n",
            "younusmohamed/payment-fraud-empowering-financial-security  Payment Fraud - Empowering Financial Security          319948  2025-08-02 08:40:49.427000            607         27  1.0              \n",
            "shamimhasan8/education-inequality-data                     Education Inequality Data                               28283  2025-07-29 03:19:04.740000           1264         26  1.0              \n",
            "atharvasoundankar/sneakers-and-streetwear-sales-2022       👟 Sneakers & Streetwear Sales (2022)                     6320  2025-07-29 08:28:56.377000           1317         28  1.0              \n",
            "yasserhessein/multiclass-diabetes-dataset                  Multiclass Diabetes Dataset                              3755  2025-07-18 09:17:03.757000           1678         46  1.0              \n",
            "dansbecker/melbourne-housing-snapshot                      Melbourne Housing Snapshot                             461423  2018-06-05 12:52:24.087000         188053       1655  0.7058824        \n",
            "rohitgrewal/spotify-youtube-data                           Spotify-YouTube Data                                  9386470  2025-07-26 08:56:33.277000           1305         30  1.0              \n",
            "datasnaek/youtube-new                                      Trending YouTube Video Statistics                   210575746  2019-06-03 00:56:47.177000         279874       5743  0.7941176        \n",
            "zynicide/wine-reviews                                      Wine Reviews                                         53336293  2017-11-27 17:08:04.700000         331760       3764  0.7941176        \n"
          ]
        }
      ]
    },
    {
      "cell_type": "code",
      "source": [
        "!kaggle datasets download sahilislam007/college-student-placement-factors-dataset"
      ],
      "metadata": {
        "colab": {
          "base_uri": "https://localhost:8080/"
        },
        "id": "8kPV39KwkyQe",
        "outputId": "81aa55d8-b938-4bed-84fe-c0f8e6838165"
      },
      "execution_count": 7,
      "outputs": [
        {
          "output_type": "stream",
          "name": "stdout",
          "text": [
            "Dataset URL: https://www.kaggle.com/datasets/sahilislam007/college-student-placement-factors-dataset\n",
            "License(s): MIT\n",
            "Downloading college-student-placement-factors-dataset.zip to /content\n",
            "  0% 0.00/108k [00:00<?, ?B/s]\n",
            "100% 108k/108k [00:00<00:00, 296MB/s]\n"
          ]
        }
      ]
    },
    {
      "cell_type": "code",
      "source": [
        "import zipfile\n",
        "zip_ref = zipfile.ZipFile('/content/college-student-placement-factors-dataset.zip', 'r')\n",
        "zip_ref.extractall('/content')\n",
        "zip_ref.close()"
      ],
      "metadata": {
        "id": "umSuXTH_nfLV"
      },
      "execution_count": 10,
      "outputs": []
    },
    {
      "cell_type": "code",
      "source": [
        "import pandas as pd #import pandas libary\n",
        "\n",
        "df = pd.read_csv('/content/college_student_placement_dataset.csv') #read csv file\n",
        "df.head() #view dataset\n",
        "#print (df)"
      ],
      "metadata": {
        "colab": {
          "base_uri": "https://localhost:8080/"
        },
        "id": "MmgMfFEcnswM",
        "outputId": "dc63ba74-f2ad-4612-925c-fb08022ea769"
      },
      "execution_count": 15,
      "outputs": [
        {
          "output_type": "stream",
          "name": "stdout",
          "text": [
            "     College_ID   IQ  Prev_Sem_Result  CGPA  Academic_Performance  \\\n",
            "0       CLG0030  107             6.61  6.28                     8   \n",
            "1       CLG0061   97             5.52  5.37                     8   \n",
            "2       CLG0036  109             5.36  5.83                     9   \n",
            "3       CLG0055  122             5.47  5.75                     6   \n",
            "4       CLG0004   96             7.91  7.69                     7   \n",
            "...         ...  ...              ...   ...                   ...   \n",
            "9995    CLG0021  119             8.41  8.29                     4   \n",
            "9996    CLG0098   70             9.25  9.34                     7   \n",
            "9997    CLG0066   89             6.08  6.25                     3   \n",
            "9998    CLG0045  107             8.77  8.92                     3   \n",
            "9999    CLG0060  109             9.41  9.77                     8   \n",
            "\n",
            "     Internship_Experience  Extra_Curricular_Score  Communication_Skills  \\\n",
            "0                       No                       8                     8   \n",
            "1                       No                       7                     8   \n",
            "2                       No                       3                     1   \n",
            "3                      Yes                       1                     6   \n",
            "4                       No                       8                    10   \n",
            "...                    ...                     ...                   ...   \n",
            "9995                    No                       1                     8   \n",
            "9996                    No                       0                     7   \n",
            "9997                   Yes                       3                     9   \n",
            "9998                    No                       7                     5   \n",
            "9999                    No                       3                     5   \n",
            "\n",
            "      Projects_Completed Placement  \n",
            "0                      4        No  \n",
            "1                      0        No  \n",
            "2                      1        No  \n",
            "3                      1        No  \n",
            "4                      2        No  \n",
            "...                  ...       ...  \n",
            "9995                   0       Yes  \n",
            "9996                   2        No  \n",
            "9997                   5        No  \n",
            "9998                   1        No  \n",
            "9999                   5        No  \n",
            "\n",
            "[10000 rows x 10 columns]\n"
          ]
        }
      ]
    },
    {
      "cell_type": "code",
      "source": [],
      "metadata": {
        "id": "mi0BVX1rNqKp"
      },
      "execution_count": null,
      "outputs": []
    },
    {
      "cell_type": "code",
      "source": [
        "from google.colab import drive\n",
        "drive.mount('/content/drive')"
      ],
      "metadata": {
        "id": "etU5jz5-Nzlr"
      },
      "execution_count": null,
      "outputs": []
    }
  ]
}